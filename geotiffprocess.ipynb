{
 "cells": [
  {
   "cell_type": "code",
   "execution_count": null,
   "metadata": {},
   "outputs": [],
   "source": [
    "%%bash\n",
    "\n",
    "sudo apt-get install -y software-properties-common\n",
    "sudo add-apt-repository ppa:ubuntugis/ppa && sudo apt-get update\n",
    "sudo apt-get update\n",
    "sudo apt-get install -y gdal-bin\n",
    "sudo apt-get install -y libgdal-dev\n",
    "export CPLUS_INCLUDE_PATH=/usr/include/gdal\n",
    "export C_INCLUDE_PATH=/usr/include/gdal\n",
    "\n",
    "conda install -y GDAL"
   ]
  }
 ],
 "metadata": {
  "kernelspec": {
   "display_name": "Python 3",
   "language": "python",
   "name": "python3"
  },
  "language_info": {
   "name": "python",
   "version": "3.9.7"
  },
  "orig_nbformat": 4
 },
 "nbformat": 4,
 "nbformat_minor": 2
}
